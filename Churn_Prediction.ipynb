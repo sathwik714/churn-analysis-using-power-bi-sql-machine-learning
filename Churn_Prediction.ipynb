{
  "nbformat": 4,
  "nbformat_minor": 0,
  "metadata": {
    "colab": {
      "provenance": []
    },
    "kernelspec": {
      "name": "python3",
      "display_name": "Python 3"
    },
    "language_info": {
      "name": "python"
    }
  },
  "cells": [
    {
      "cell_type": "code",
      "execution_count": 29,
      "metadata": {
        "id": "g3vpDPfxtSjY"
      },
      "outputs": [],
      "source": [
        "import pandas as pd\n",
        "import numpy as np\n",
        "from sklearn.model_selection import train_test_split\n",
        "from sklearn.ensemble import RandomForestClassifier\n",
        "from sklearn.metrics import classification_report, confusion_matrix\n",
        "from sklearn.preprocessing import LabelEncoder\n",
        "import joblib\n"
      ]
    },
    {
      "cell_type": "code",
      "source": [
        "file_path = '/content/Prediction_Data.xlsx'\n",
        "\n",
        "data = pd.read_excel(file_path, sheet_name='vw_ChurnData')\n",
        "\n",
        "print(data.head())\n",
        "\n",
        "# Access each sheet by its name, for example:\n",
        "# df_churn = data['vw_ChurnData']\n",
        "# df_join = data['vw_JoinData']\n"
      ],
      "metadata": {
        "colab": {
          "base_uri": "https://localhost:8080/"
        },
        "id": "5vVXFTOdvuis",
        "outputId": "8104aa0e-8c82-4268-c9c8-98947e995b08"
      },
      "execution_count": 30,
      "outputs": [
        {
          "output_type": "stream",
          "name": "stdout",
          "text": [
            "  Customer_ID  Gender  Age Married           State  Number_of_Referrals  \\\n",
            "0   11098-MAD  Female   30     Yes  Madhya Pradesh                    0   \n",
            "1   11114-PUN    Male   51      No          Punjab                    5   \n",
            "2   11167-WES  Female   43     Yes     West Bengal                    3   \n",
            "3   11179-MAH    Male   35      No     Maharashtra                   10   \n",
            "4   11180-TAM    Male   75     Yes      Tamil Nadu                   12   \n",
            "\n",
            "   Tenure_in_Months Value_Deal Phone_Service Multiple_Lines  ...  \\\n",
            "0                31     Deal 1           Yes             No  ...   \n",
            "1                 9     Deal 5           Yes             No  ...   \n",
            "2                28     Deal 1           Yes            Yes  ...   \n",
            "3                12        NaN           Yes             No  ...   \n",
            "4                27     Deal 2           Yes             No  ...   \n",
            "\n",
            "    Payment_Method Monthly_Charge Total_Charges Total_Refunds  \\\n",
            "0  Bank Withdrawal      95.099998   6683.399902          0.00   \n",
            "1  Bank Withdrawal      49.150002    169.050003          0.00   \n",
            "2  Bank Withdrawal     116.050003   8297.500000         42.57   \n",
            "3      Credit Card      84.400002   5969.299805          0.00   \n",
            "4      Credit Card      72.599998   4084.350098          0.00   \n",
            "\n",
            "  Total_Extra_Data_Charges Total_Long_Distance_Charges Total_Revenue  \\\n",
            "0                        0                  631.719971   7315.120117   \n",
            "1                       10                  122.370003    301.420013   \n",
            "2                      110                 1872.979980  10237.910156   \n",
            "3                        0                  219.389999   6188.689941   \n",
            "4                      140                  332.079987   4556.430176   \n",
            "\n",
            "  Customer_Status Churn_Category                   Churn_Reason  \n",
            "0          Stayed         Others                         Others  \n",
            "1         Churned     Competitor  Competitor had better devices  \n",
            "2          Stayed         Others                         Others  \n",
            "3          Stayed         Others                         Others  \n",
            "4          Stayed         Others                         Others  \n",
            "\n",
            "[5 rows x 32 columns]\n"
          ]
        }
      ]
    },
    {
      "cell_type": "code",
      "source": [
        "# Data Processing\n",
        "# Drop columns that won't be used fro prediction\n",
        "data = data.drop(['Customer_ID', 'Churn_Category','Churn_Reason'], axis=1)"
      ],
      "metadata": {
        "id": "_rUL-onIwm5b"
      },
      "execution_count": 31,
      "outputs": []
    },
    {
      "cell_type": "code",
      "source": [
        "data.head()"
      ],
      "metadata": {
        "colab": {
          "base_uri": "https://localhost:8080/",
          "height": 308
        },
        "id": "Mz-REDOmxOGo",
        "outputId": "8455899b-a9bb-4f7f-d01a-c57f36f2491d"
      },
      "execution_count": 32,
      "outputs": [
        {
          "output_type": "execute_result",
          "data": {
            "text/plain": [
              "   Gender  Age Married           State  Number_of_Referrals  Tenure_in_Months  \\\n",
              "0  Female   30     Yes  Madhya Pradesh                    0                31   \n",
              "1    Male   51      No          Punjab                    5                 9   \n",
              "2  Female   43     Yes     West Bengal                    3                28   \n",
              "3    Male   35      No     Maharashtra                   10                12   \n",
              "4    Male   75     Yes      Tamil Nadu                   12                27   \n",
              "\n",
              "  Value_Deal Phone_Service Multiple_Lines Internet_Service  ...  \\\n",
              "0     Deal 1           Yes             No              Yes  ...   \n",
              "1     Deal 5           Yes             No              Yes  ...   \n",
              "2     Deal 1           Yes            Yes              Yes  ...   \n",
              "3        NaN           Yes             No              Yes  ...   \n",
              "4     Deal 2           Yes             No              Yes  ...   \n",
              "\n",
              "         Contract Paperless_Billing   Payment_Method Monthly_Charge  \\\n",
              "0        Two Year                No  Bank Withdrawal      95.099998   \n",
              "1  Month-to-Month               Yes  Bank Withdrawal      49.150002   \n",
              "2        Two Year               Yes  Bank Withdrawal     116.050003   \n",
              "3        Two Year               Yes      Credit Card      84.400002   \n",
              "4        Two Year               Yes      Credit Card      72.599998   \n",
              "\n",
              "  Total_Charges Total_Refunds Total_Extra_Data_Charges  \\\n",
              "0   6683.399902          0.00                        0   \n",
              "1    169.050003          0.00                       10   \n",
              "2   8297.500000         42.57                      110   \n",
              "3   5969.299805          0.00                        0   \n",
              "4   4084.350098          0.00                      140   \n",
              "\n",
              "  Total_Long_Distance_Charges Total_Revenue Customer_Status  \n",
              "0                  631.719971   7315.120117          Stayed  \n",
              "1                  122.370003    301.420013         Churned  \n",
              "2                 1872.979980  10237.910156          Stayed  \n",
              "3                  219.389999   6188.689941          Stayed  \n",
              "4                  332.079987   4556.430176          Stayed  \n",
              "\n",
              "[5 rows x 29 columns]"
            ],
            "text/html": [
              "\n",
              "  <div id=\"df-e77802e3-daef-461a-8b5f-34d7d51748be\" class=\"colab-df-container\">\n",
              "    <div>\n",
              "<style scoped>\n",
              "    .dataframe tbody tr th:only-of-type {\n",
              "        vertical-align: middle;\n",
              "    }\n",
              "\n",
              "    .dataframe tbody tr th {\n",
              "        vertical-align: top;\n",
              "    }\n",
              "\n",
              "    .dataframe thead th {\n",
              "        text-align: right;\n",
              "    }\n",
              "</style>\n",
              "<table border=\"1\" class=\"dataframe\">\n",
              "  <thead>\n",
              "    <tr style=\"text-align: right;\">\n",
              "      <th></th>\n",
              "      <th>Gender</th>\n",
              "      <th>Age</th>\n",
              "      <th>Married</th>\n",
              "      <th>State</th>\n",
              "      <th>Number_of_Referrals</th>\n",
              "      <th>Tenure_in_Months</th>\n",
              "      <th>Value_Deal</th>\n",
              "      <th>Phone_Service</th>\n",
              "      <th>Multiple_Lines</th>\n",
              "      <th>Internet_Service</th>\n",
              "      <th>...</th>\n",
              "      <th>Contract</th>\n",
              "      <th>Paperless_Billing</th>\n",
              "      <th>Payment_Method</th>\n",
              "      <th>Monthly_Charge</th>\n",
              "      <th>Total_Charges</th>\n",
              "      <th>Total_Refunds</th>\n",
              "      <th>Total_Extra_Data_Charges</th>\n",
              "      <th>Total_Long_Distance_Charges</th>\n",
              "      <th>Total_Revenue</th>\n",
              "      <th>Customer_Status</th>\n",
              "    </tr>\n",
              "  </thead>\n",
              "  <tbody>\n",
              "    <tr>\n",
              "      <th>0</th>\n",
              "      <td>Female</td>\n",
              "      <td>30</td>\n",
              "      <td>Yes</td>\n",
              "      <td>Madhya Pradesh</td>\n",
              "      <td>0</td>\n",
              "      <td>31</td>\n",
              "      <td>Deal 1</td>\n",
              "      <td>Yes</td>\n",
              "      <td>No</td>\n",
              "      <td>Yes</td>\n",
              "      <td>...</td>\n",
              "      <td>Two Year</td>\n",
              "      <td>No</td>\n",
              "      <td>Bank Withdrawal</td>\n",
              "      <td>95.099998</td>\n",
              "      <td>6683.399902</td>\n",
              "      <td>0.00</td>\n",
              "      <td>0</td>\n",
              "      <td>631.719971</td>\n",
              "      <td>7315.120117</td>\n",
              "      <td>Stayed</td>\n",
              "    </tr>\n",
              "    <tr>\n",
              "      <th>1</th>\n",
              "      <td>Male</td>\n",
              "      <td>51</td>\n",
              "      <td>No</td>\n",
              "      <td>Punjab</td>\n",
              "      <td>5</td>\n",
              "      <td>9</td>\n",
              "      <td>Deal 5</td>\n",
              "      <td>Yes</td>\n",
              "      <td>No</td>\n",
              "      <td>Yes</td>\n",
              "      <td>...</td>\n",
              "      <td>Month-to-Month</td>\n",
              "      <td>Yes</td>\n",
              "      <td>Bank Withdrawal</td>\n",
              "      <td>49.150002</td>\n",
              "      <td>169.050003</td>\n",
              "      <td>0.00</td>\n",
              "      <td>10</td>\n",
              "      <td>122.370003</td>\n",
              "      <td>301.420013</td>\n",
              "      <td>Churned</td>\n",
              "    </tr>\n",
              "    <tr>\n",
              "      <th>2</th>\n",
              "      <td>Female</td>\n",
              "      <td>43</td>\n",
              "      <td>Yes</td>\n",
              "      <td>West Bengal</td>\n",
              "      <td>3</td>\n",
              "      <td>28</td>\n",
              "      <td>Deal 1</td>\n",
              "      <td>Yes</td>\n",
              "      <td>Yes</td>\n",
              "      <td>Yes</td>\n",
              "      <td>...</td>\n",
              "      <td>Two Year</td>\n",
              "      <td>Yes</td>\n",
              "      <td>Bank Withdrawal</td>\n",
              "      <td>116.050003</td>\n",
              "      <td>8297.500000</td>\n",
              "      <td>42.57</td>\n",
              "      <td>110</td>\n",
              "      <td>1872.979980</td>\n",
              "      <td>10237.910156</td>\n",
              "      <td>Stayed</td>\n",
              "    </tr>\n",
              "    <tr>\n",
              "      <th>3</th>\n",
              "      <td>Male</td>\n",
              "      <td>35</td>\n",
              "      <td>No</td>\n",
              "      <td>Maharashtra</td>\n",
              "      <td>10</td>\n",
              "      <td>12</td>\n",
              "      <td>NaN</td>\n",
              "      <td>Yes</td>\n",
              "      <td>No</td>\n",
              "      <td>Yes</td>\n",
              "      <td>...</td>\n",
              "      <td>Two Year</td>\n",
              "      <td>Yes</td>\n",
              "      <td>Credit Card</td>\n",
              "      <td>84.400002</td>\n",
              "      <td>5969.299805</td>\n",
              "      <td>0.00</td>\n",
              "      <td>0</td>\n",
              "      <td>219.389999</td>\n",
              "      <td>6188.689941</td>\n",
              "      <td>Stayed</td>\n",
              "    </tr>\n",
              "    <tr>\n",
              "      <th>4</th>\n",
              "      <td>Male</td>\n",
              "      <td>75</td>\n",
              "      <td>Yes</td>\n",
              "      <td>Tamil Nadu</td>\n",
              "      <td>12</td>\n",
              "      <td>27</td>\n",
              "      <td>Deal 2</td>\n",
              "      <td>Yes</td>\n",
              "      <td>No</td>\n",
              "      <td>Yes</td>\n",
              "      <td>...</td>\n",
              "      <td>Two Year</td>\n",
              "      <td>Yes</td>\n",
              "      <td>Credit Card</td>\n",
              "      <td>72.599998</td>\n",
              "      <td>4084.350098</td>\n",
              "      <td>0.00</td>\n",
              "      <td>140</td>\n",
              "      <td>332.079987</td>\n",
              "      <td>4556.430176</td>\n",
              "      <td>Stayed</td>\n",
              "    </tr>\n",
              "  </tbody>\n",
              "</table>\n",
              "<p>5 rows × 29 columns</p>\n",
              "</div>\n",
              "    <div class=\"colab-df-buttons\">\n",
              "\n",
              "  <div class=\"colab-df-container\">\n",
              "    <button class=\"colab-df-convert\" onclick=\"convertToInteractive('df-e77802e3-daef-461a-8b5f-34d7d51748be')\"\n",
              "            title=\"Convert this dataframe to an interactive table.\"\n",
              "            style=\"display:none;\">\n",
              "\n",
              "  <svg xmlns=\"http://www.w3.org/2000/svg\" height=\"24px\" viewBox=\"0 -960 960 960\">\n",
              "    <path d=\"M120-120v-720h720v720H120Zm60-500h600v-160H180v160Zm220 220h160v-160H400v160Zm0 220h160v-160H400v160ZM180-400h160v-160H180v160Zm440 0h160v-160H620v160ZM180-180h160v-160H180v160Zm440 0h160v-160H620v160Z\"/>\n",
              "  </svg>\n",
              "    </button>\n",
              "\n",
              "  <style>\n",
              "    .colab-df-container {\n",
              "      display:flex;\n",
              "      gap: 12px;\n",
              "    }\n",
              "\n",
              "    .colab-df-convert {\n",
              "      background-color: #E8F0FE;\n",
              "      border: none;\n",
              "      border-radius: 50%;\n",
              "      cursor: pointer;\n",
              "      display: none;\n",
              "      fill: #1967D2;\n",
              "      height: 32px;\n",
              "      padding: 0 0 0 0;\n",
              "      width: 32px;\n",
              "    }\n",
              "\n",
              "    .colab-df-convert:hover {\n",
              "      background-color: #E2EBFA;\n",
              "      box-shadow: 0px 1px 2px rgba(60, 64, 67, 0.3), 0px 1px 3px 1px rgba(60, 64, 67, 0.15);\n",
              "      fill: #174EA6;\n",
              "    }\n",
              "\n",
              "    .colab-df-buttons div {\n",
              "      margin-bottom: 4px;\n",
              "    }\n",
              "\n",
              "    [theme=dark] .colab-df-convert {\n",
              "      background-color: #3B4455;\n",
              "      fill: #D2E3FC;\n",
              "    }\n",
              "\n",
              "    [theme=dark] .colab-df-convert:hover {\n",
              "      background-color: #434B5C;\n",
              "      box-shadow: 0px 1px 3px 1px rgba(0, 0, 0, 0.15);\n",
              "      filter: drop-shadow(0px 1px 2px rgba(0, 0, 0, 0.3));\n",
              "      fill: #FFFFFF;\n",
              "    }\n",
              "  </style>\n",
              "\n",
              "    <script>\n",
              "      const buttonEl =\n",
              "        document.querySelector('#df-e77802e3-daef-461a-8b5f-34d7d51748be button.colab-df-convert');\n",
              "      buttonEl.style.display =\n",
              "        google.colab.kernel.accessAllowed ? 'block' : 'none';\n",
              "\n",
              "      async function convertToInteractive(key) {\n",
              "        const element = document.querySelector('#df-e77802e3-daef-461a-8b5f-34d7d51748be');\n",
              "        const dataTable =\n",
              "          await google.colab.kernel.invokeFunction('convertToInteractive',\n",
              "                                                    [key], {});\n",
              "        if (!dataTable) return;\n",
              "\n",
              "        const docLinkHtml = 'Like what you see? Visit the ' +\n",
              "          '<a target=\"_blank\" href=https://colab.research.google.com/notebooks/data_table.ipynb>data table notebook</a>'\n",
              "          + ' to learn more about interactive tables.';\n",
              "        element.innerHTML = '';\n",
              "        dataTable['output_type'] = 'display_data';\n",
              "        await google.colab.output.renderOutput(dataTable, element);\n",
              "        const docLink = document.createElement('div');\n",
              "        docLink.innerHTML = docLinkHtml;\n",
              "        element.appendChild(docLink);\n",
              "      }\n",
              "    </script>\n",
              "  </div>\n",
              "\n",
              "\n",
              "<div id=\"df-daedff40-d784-42ff-8c30-67fa61e814f8\">\n",
              "  <button class=\"colab-df-quickchart\" onclick=\"quickchart('df-daedff40-d784-42ff-8c30-67fa61e814f8')\"\n",
              "            title=\"Suggest charts\"\n",
              "            style=\"display:none;\">\n",
              "\n",
              "<svg xmlns=\"http://www.w3.org/2000/svg\" height=\"24px\"viewBox=\"0 0 24 24\"\n",
              "     width=\"24px\">\n",
              "    <g>\n",
              "        <path d=\"M19 3H5c-1.1 0-2 .9-2 2v14c0 1.1.9 2 2 2h14c1.1 0 2-.9 2-2V5c0-1.1-.9-2-2-2zM9 17H7v-7h2v7zm4 0h-2V7h2v10zm4 0h-2v-4h2v4z\"/>\n",
              "    </g>\n",
              "</svg>\n",
              "  </button>\n",
              "\n",
              "<style>\n",
              "  .colab-df-quickchart {\n",
              "      --bg-color: #E8F0FE;\n",
              "      --fill-color: #1967D2;\n",
              "      --hover-bg-color: #E2EBFA;\n",
              "      --hover-fill-color: #174EA6;\n",
              "      --disabled-fill-color: #AAA;\n",
              "      --disabled-bg-color: #DDD;\n",
              "  }\n",
              "\n",
              "  [theme=dark] .colab-df-quickchart {\n",
              "      --bg-color: #3B4455;\n",
              "      --fill-color: #D2E3FC;\n",
              "      --hover-bg-color: #434B5C;\n",
              "      --hover-fill-color: #FFFFFF;\n",
              "      --disabled-bg-color: #3B4455;\n",
              "      --disabled-fill-color: #666;\n",
              "  }\n",
              "\n",
              "  .colab-df-quickchart {\n",
              "    background-color: var(--bg-color);\n",
              "    border: none;\n",
              "    border-radius: 50%;\n",
              "    cursor: pointer;\n",
              "    display: none;\n",
              "    fill: var(--fill-color);\n",
              "    height: 32px;\n",
              "    padding: 0;\n",
              "    width: 32px;\n",
              "  }\n",
              "\n",
              "  .colab-df-quickchart:hover {\n",
              "    background-color: var(--hover-bg-color);\n",
              "    box-shadow: 0 1px 2px rgba(60, 64, 67, 0.3), 0 1px 3px 1px rgba(60, 64, 67, 0.15);\n",
              "    fill: var(--button-hover-fill-color);\n",
              "  }\n",
              "\n",
              "  .colab-df-quickchart-complete:disabled,\n",
              "  .colab-df-quickchart-complete:disabled:hover {\n",
              "    background-color: var(--disabled-bg-color);\n",
              "    fill: var(--disabled-fill-color);\n",
              "    box-shadow: none;\n",
              "  }\n",
              "\n",
              "  .colab-df-spinner {\n",
              "    border: 2px solid var(--fill-color);\n",
              "    border-color: transparent;\n",
              "    border-bottom-color: var(--fill-color);\n",
              "    animation:\n",
              "      spin 1s steps(1) infinite;\n",
              "  }\n",
              "\n",
              "  @keyframes spin {\n",
              "    0% {\n",
              "      border-color: transparent;\n",
              "      border-bottom-color: var(--fill-color);\n",
              "      border-left-color: var(--fill-color);\n",
              "    }\n",
              "    20% {\n",
              "      border-color: transparent;\n",
              "      border-left-color: var(--fill-color);\n",
              "      border-top-color: var(--fill-color);\n",
              "    }\n",
              "    30% {\n",
              "      border-color: transparent;\n",
              "      border-left-color: var(--fill-color);\n",
              "      border-top-color: var(--fill-color);\n",
              "      border-right-color: var(--fill-color);\n",
              "    }\n",
              "    40% {\n",
              "      border-color: transparent;\n",
              "      border-right-color: var(--fill-color);\n",
              "      border-top-color: var(--fill-color);\n",
              "    }\n",
              "    60% {\n",
              "      border-color: transparent;\n",
              "      border-right-color: var(--fill-color);\n",
              "    }\n",
              "    80% {\n",
              "      border-color: transparent;\n",
              "      border-right-color: var(--fill-color);\n",
              "      border-bottom-color: var(--fill-color);\n",
              "    }\n",
              "    90% {\n",
              "      border-color: transparent;\n",
              "      border-bottom-color: var(--fill-color);\n",
              "    }\n",
              "  }\n",
              "</style>\n",
              "\n",
              "  <script>\n",
              "    async function quickchart(key) {\n",
              "      const quickchartButtonEl =\n",
              "        document.querySelector('#' + key + ' button');\n",
              "      quickchartButtonEl.disabled = true;  // To prevent multiple clicks.\n",
              "      quickchartButtonEl.classList.add('colab-df-spinner');\n",
              "      try {\n",
              "        const charts = await google.colab.kernel.invokeFunction(\n",
              "            'suggestCharts', [key], {});\n",
              "      } catch (error) {\n",
              "        console.error('Error during call to suggestCharts:', error);\n",
              "      }\n",
              "      quickchartButtonEl.classList.remove('colab-df-spinner');\n",
              "      quickchartButtonEl.classList.add('colab-df-quickchart-complete');\n",
              "    }\n",
              "    (() => {\n",
              "      let quickchartButtonEl =\n",
              "        document.querySelector('#df-daedff40-d784-42ff-8c30-67fa61e814f8 button');\n",
              "      quickchartButtonEl.style.display =\n",
              "        google.colab.kernel.accessAllowed ? 'block' : 'none';\n",
              "    })();\n",
              "  </script>\n",
              "</div>\n",
              "\n",
              "    </div>\n",
              "  </div>\n"
            ],
            "application/vnd.google.colaboratory.intrinsic+json": {
              "type": "dataframe",
              "variable_name": "data"
            }
          },
          "metadata": {},
          "execution_count": 32
        }
      ]
    },
    {
      "cell_type": "code",
      "source": [
        "data.columns"
      ],
      "metadata": {
        "colab": {
          "base_uri": "https://localhost:8080/"
        },
        "id": "MoNGofTxxjjx",
        "outputId": "03a4f353-32a7-4cbb-fb95-79ff5f4447ea"
      },
      "execution_count": 33,
      "outputs": [
        {
          "output_type": "execute_result",
          "data": {
            "text/plain": [
              "Index(['Gender', 'Age', 'Married', 'State', 'Number_of_Referrals',\n",
              "       'Tenure_in_Months', 'Value_Deal', 'Phone_Service', 'Multiple_Lines',\n",
              "       'Internet_Service', 'Internet_Type', 'Online_Security', 'Online_Backup',\n",
              "       'Device_Protection_Plan', 'Premium_Support', 'Streaming_TV',\n",
              "       'Streaming_Movies', 'Streaming_Music', 'Unlimited_Data', 'Contract',\n",
              "       'Paperless_Billing', 'Payment_Method', 'Monthly_Charge',\n",
              "       'Total_Charges', 'Total_Refunds', 'Total_Extra_Data_Charges',\n",
              "       'Total_Long_Distance_Charges', 'Total_Revenue', 'Customer_Status'],\n",
              "      dtype='object')"
            ]
          },
          "metadata": {},
          "execution_count": 33
        }
      ]
    },
    {
      "cell_type": "code",
      "source": [
        "# List of columns to be Label encoded\n",
        "columns_to_encode = ['Gender','Married', 'State','Value_Deal', 'Phone_Service', 'Multiple_Lines',\n",
        "       'Internet_Service', 'Internet_Type', 'Online_Security', 'Online_Backup',\n",
        "       'Device_Protection_Plan', 'Premium_Support', 'Streaming_TV',\n",
        "       'Streaming_Movies', 'Streaming_Music', 'Unlimited_Data', 'Contract',\n",
        "       'Paperless_Billing', 'Payment_Method'\n",
        "]"
      ],
      "metadata": {
        "id": "V3pRDyFGxUc8"
      },
      "execution_count": 34,
      "outputs": []
    },
    {
      "cell_type": "code",
      "source": [
        "# Encode Ctegorical Variables except the target Variable\n",
        "label_encoders = {}\n",
        "for column in columns_to_encode:\n",
        "    label_encoders[column] = LabelEncoder()\n",
        "    data[column] = label_encoders[column].fit_transform(data[column])"
      ],
      "metadata": {
        "id": "tTZmnR2TytyU"
      },
      "execution_count": 35,
      "outputs": []
    },
    {
      "cell_type": "code",
      "source": [
        "# Manually Encode the Target Variable\n",
        "data['Customer_Status'] = data['Customer_Status'].map({'Stayed': 0, 'Churned':1})"
      ],
      "metadata": {
        "id": "QK-qtWpIzV7y"
      },
      "execution_count": 36,
      "outputs": []
    },
    {
      "cell_type": "code",
      "source": [
        "# Split data into feature and target\n",
        "X = data.drop('Customer_Status', axis=1)\n",
        "y = data['Customer_Status']"
      ],
      "metadata": {
        "id": "WBJrUf_Nz-Wp"
      },
      "execution_count": 37,
      "outputs": []
    },
    {
      "cell_type": "code",
      "source": [
        "# Split data into training and testing sets\n",
        "X_train, X_test, y_train, y_test = train_test_split(X, y, test_size=0.2, random_state=42)"
      ],
      "metadata": {
        "id": "jf2dNbj80cBm"
      },
      "execution_count": 38,
      "outputs": []
    },
    {
      "cell_type": "code",
      "source": [
        "# Train Random Forest Model\n",
        "# Initialize the Random Forest Classifier\n",
        "rf_model = RandomForestClassifier(n_estimators=100, random_state=42)\n",
        "\n",
        "# Train the model\n",
        "rf_model.fit(X_train, y_train)"
      ],
      "metadata": {
        "colab": {
          "base_uri": "https://localhost:8080/",
          "height": 75
        },
        "id": "pDMfuXZo0nF4",
        "outputId": "af9e5040-21cb-463d-e3c2-8f0207a3922b"
      },
      "execution_count": 39,
      "outputs": [
        {
          "output_type": "execute_result",
          "data": {
            "text/plain": [
              "RandomForestClassifier(random_state=42)"
            ],
            "text/html": [
              "<style>#sk-container-id-2 {color: black;background-color: white;}#sk-container-id-2 pre{padding: 0;}#sk-container-id-2 div.sk-toggleable {background-color: white;}#sk-container-id-2 label.sk-toggleable__label {cursor: pointer;display: block;width: 100%;margin-bottom: 0;padding: 0.3em;box-sizing: border-box;text-align: center;}#sk-container-id-2 label.sk-toggleable__label-arrow:before {content: \"▸\";float: left;margin-right: 0.25em;color: #696969;}#sk-container-id-2 label.sk-toggleable__label-arrow:hover:before {color: black;}#sk-container-id-2 div.sk-estimator:hover label.sk-toggleable__label-arrow:before {color: black;}#sk-container-id-2 div.sk-toggleable__content {max-height: 0;max-width: 0;overflow: hidden;text-align: left;background-color: #f0f8ff;}#sk-container-id-2 div.sk-toggleable__content pre {margin: 0.2em;color: black;border-radius: 0.25em;background-color: #f0f8ff;}#sk-container-id-2 input.sk-toggleable__control:checked~div.sk-toggleable__content {max-height: 200px;max-width: 100%;overflow: auto;}#sk-container-id-2 input.sk-toggleable__control:checked~label.sk-toggleable__label-arrow:before {content: \"▾\";}#sk-container-id-2 div.sk-estimator input.sk-toggleable__control:checked~label.sk-toggleable__label {background-color: #d4ebff;}#sk-container-id-2 div.sk-label input.sk-toggleable__control:checked~label.sk-toggleable__label {background-color: #d4ebff;}#sk-container-id-2 input.sk-hidden--visually {border: 0;clip: rect(1px 1px 1px 1px);clip: rect(1px, 1px, 1px, 1px);height: 1px;margin: -1px;overflow: hidden;padding: 0;position: absolute;width: 1px;}#sk-container-id-2 div.sk-estimator {font-family: monospace;background-color: #f0f8ff;border: 1px dotted black;border-radius: 0.25em;box-sizing: border-box;margin-bottom: 0.5em;}#sk-container-id-2 div.sk-estimator:hover {background-color: #d4ebff;}#sk-container-id-2 div.sk-parallel-item::after {content: \"\";width: 100%;border-bottom: 1px solid gray;flex-grow: 1;}#sk-container-id-2 div.sk-label:hover label.sk-toggleable__label {background-color: #d4ebff;}#sk-container-id-2 div.sk-serial::before {content: \"\";position: absolute;border-left: 1px solid gray;box-sizing: border-box;top: 0;bottom: 0;left: 50%;z-index: 0;}#sk-container-id-2 div.sk-serial {display: flex;flex-direction: column;align-items: center;background-color: white;padding-right: 0.2em;padding-left: 0.2em;position: relative;}#sk-container-id-2 div.sk-item {position: relative;z-index: 1;}#sk-container-id-2 div.sk-parallel {display: flex;align-items: stretch;justify-content: center;background-color: white;position: relative;}#sk-container-id-2 div.sk-item::before, #sk-container-id-2 div.sk-parallel-item::before {content: \"\";position: absolute;border-left: 1px solid gray;box-sizing: border-box;top: 0;bottom: 0;left: 50%;z-index: -1;}#sk-container-id-2 div.sk-parallel-item {display: flex;flex-direction: column;z-index: 1;position: relative;background-color: white;}#sk-container-id-2 div.sk-parallel-item:first-child::after {align-self: flex-end;width: 50%;}#sk-container-id-2 div.sk-parallel-item:last-child::after {align-self: flex-start;width: 50%;}#sk-container-id-2 div.sk-parallel-item:only-child::after {width: 0;}#sk-container-id-2 div.sk-dashed-wrapped {border: 1px dashed gray;margin: 0 0.4em 0.5em 0.4em;box-sizing: border-box;padding-bottom: 0.4em;background-color: white;}#sk-container-id-2 div.sk-label label {font-family: monospace;font-weight: bold;display: inline-block;line-height: 1.2em;}#sk-container-id-2 div.sk-label-container {text-align: center;}#sk-container-id-2 div.sk-container {/* jupyter's `normalize.less` sets `[hidden] { display: none; }` but bootstrap.min.css set `[hidden] { display: none !important; }` so we also need the `!important` here to be able to override the default hidden behavior on the sphinx rendered scikit-learn.org. See: https://github.com/scikit-learn/scikit-learn/issues/21755 */display: inline-block !important;position: relative;}#sk-container-id-2 div.sk-text-repr-fallback {display: none;}</style><div id=\"sk-container-id-2\" class=\"sk-top-container\"><div class=\"sk-text-repr-fallback\"><pre>RandomForestClassifier(random_state=42)</pre><b>In a Jupyter environment, please rerun this cell to show the HTML representation or trust the notebook. <br />On GitHub, the HTML representation is unable to render, please try loading this page with nbviewer.org.</b></div><div class=\"sk-container\" hidden><div class=\"sk-item\"><div class=\"sk-estimator sk-toggleable\"><input class=\"sk-toggleable__control sk-hidden--visually\" id=\"sk-estimator-id-2\" type=\"checkbox\" checked><label for=\"sk-estimator-id-2\" class=\"sk-toggleable__label sk-toggleable__label-arrow\">RandomForestClassifier</label><div class=\"sk-toggleable__content\"><pre>RandomForestClassifier(random_state=42)</pre></div></div></div></div></div>"
            ]
          },
          "metadata": {},
          "execution_count": 39
        }
      ]
    },
    {
      "cell_type": "code",
      "source": [
        "# Evaluating Model\n",
        "# Make prediction\n",
        "\n",
        "y_pred = rf_model.predict(X_test)"
      ],
      "metadata": {
        "id": "VmkmmH_s1JWx"
      },
      "execution_count": 40,
      "outputs": []
    },
    {
      "cell_type": "code",
      "source": [
        "print('Confusion Matrix:')\n",
        "print(confusion_matrix(y_test, y_pred))\n",
        "\n",
        "print('Classification Report:')\n",
        "print(classification_report(y_test, y_pred))"
      ],
      "metadata": {
        "colab": {
          "base_uri": "https://localhost:8080/"
        },
        "id": "fDcWDwc01ncF",
        "outputId": "59e1c19e-77df-480f-92d4-1e50590aca01"
      },
      "execution_count": 41,
      "outputs": [
        {
          "output_type": "stream",
          "name": "stdout",
          "text": [
            "Confusion Matrix:\n",
            "[[783  64]\n",
            " [126 229]]\n",
            "Classification Report:\n",
            "              precision    recall  f1-score   support\n",
            "\n",
            "           0       0.86      0.92      0.89       847\n",
            "           1       0.78      0.65      0.71       355\n",
            "\n",
            "    accuracy                           0.84      1202\n",
            "   macro avg       0.82      0.78      0.80      1202\n",
            "weighted avg       0.84      0.84      0.84      1202\n",
            "\n"
          ]
        }
      ]
    },
    {
      "cell_type": "code",
      "source": [
        "# Feature Selection using Feature Importance\n",
        "importances = rf_model.feature_importances_\n",
        "indices = np.argsort(importances)[::-1]"
      ],
      "metadata": {
        "id": "WcAfiefB15EC"
      },
      "execution_count": 42,
      "outputs": []
    },
    {
      "cell_type": "code",
      "source": [
        "# plot the feature importance\n",
        "import matplotlib.pyplot as plt\n",
        "import seaborn as sns\n",
        "\n",
        "plt.figure(figsize=(15, 6))\n",
        "sns.barplot(x= importances[indices], y=X.columns[indices],palette='viridis')\n",
        "plt.title('Feature Importance')\n",
        "plt.xlabel('Relative Importance')\n",
        "plt.ylabel('Feature Names')\n",
        "plt.show()"
      ],
      "metadata": {
        "colab": {
          "base_uri": "https://localhost:8080/",
          "height": 651
        },
        "id": "Cbs7z26V2NtP",
        "outputId": "eb238ad5-9e19-4467-b044-a7cb40911f61"
      },
      "execution_count": 43,
      "outputs": [
        {
          "output_type": "stream",
          "name": "stderr",
          "text": [
            "<ipython-input-43-eba8a8fc96b7>:6: FutureWarning: \n",
            "\n",
            "Passing `palette` without assigning `hue` is deprecated and will be removed in v0.14.0. Assign the `y` variable to `hue` and set `legend=False` for the same effect.\n",
            "\n",
            "  sns.barplot(x= importances[indices], y=X.columns[indices],palette='viridis')\n"
          ]
        },
        {
          "output_type": "display_data",
          "data": {
            "text/plain": [
              "<Figure size 1500x600 with 1 Axes>"
            ],
            "image/png": "[encoded data removed]"
          },
          "metadata": {}
        }
      ]
    },
    {
      "cell_type": "code",
      "source": [
        "# predict on New Data\n",
        "# Path\n",
        "file_path = '/content/Prediction_Data.xlsx'\n",
        "\n",
        "new_data = pd.read_excel(file_path, sheet_name='vw_JoinData')\n",
        "\n",
        "print(new_data.head())\n"
      ],
      "metadata": {
        "colab": {
          "base_uri": "https://localhost:8080/"
        },
        "id": "TJ7OJk276X9k",
        "outputId": "80a8d729-0d5d-4ad1-dfe8-1dc42dbeaded"
      },
      "execution_count": 44,
      "outputs": [
        {
          "output_type": "stream",
          "name": "stdout",
          "text": [
            "  Customer_ID  Gender  Age Married        State  Number_of_Referrals  \\\n",
            "0   11751-TAM  Female   18      No   Tamil Nadu                    5   \n",
            "1   12056-WES    Male   27      No  West Bengal                    2   \n",
            "2   12136-RAJ  Female   25     Yes    Rajasthan                    2   \n",
            "3   12257-ASS  Female   39      No        Assam                    9   \n",
            "4   12340-DEL  Female   51     Yes        Delhi                    0   \n",
            "\n",
            "   Tenure_in_Months Value_Deal Phone_Service Multiple_Lines  ...  \\\n",
            "0                 7     Deal 5            No             No  ...   \n",
            "1                20        NaN           Yes             No  ...   \n",
            "2                35        NaN           Yes             No  ...   \n",
            "3                 1        NaN           Yes             No  ...   \n",
            "4                10        NaN           Yes             No  ...   \n",
            "\n",
            "    Payment_Method Monthly_Charge Total_Charges Total_Refunds  \\\n",
            "0     Mailed Check      24.299999     38.450001           0.0   \n",
            "1  Bank Withdrawal      90.400002    268.450012           0.0   \n",
            "2  Bank Withdrawal      19.900000     19.900000           0.0   \n",
            "3      Credit Card      19.549999     19.549999           0.0   \n",
            "4      Credit Card      62.799999     62.799999           0.0   \n",
            "\n",
            "  Total_Extra_Data_Charges Total_Long_Distance_Charges Total_Revenue  \\\n",
            "0                        0                    0.000000     38.450001   \n",
            "1                        0                   94.440002    362.890015   \n",
            "2                        0                   11.830000     31.730000   \n",
            "3                        0                   10.200000     29.750000   \n",
            "4                        0                   42.189999    104.989998   \n",
            "\n",
            "  Customer_Status Churn_Category Churn_Reason  \n",
            "0          Joined         Others       Others  \n",
            "1          Joined         Others       Others  \n",
            "2          Joined         Others       Others  \n",
            "3          Joined         Others       Others  \n",
            "4          Joined         Others       Others  \n",
            "\n",
            "[5 rows x 32 columns]\n"
          ]
        }
      ]
    },
    {
      "cell_type": "code",
      "source": [
        "# Retain the original DataFrame to preserve uncoded columns\n",
        "original_data = new_data.copy()"
      ],
      "metadata": {
        "id": "pcB7G5HQ6ueX"
      },
      "execution_count": 45,
      "outputs": []
    },
    {
      "cell_type": "code",
      "source": [
        "#Retain the customer ID column\n",
        "customer_ids = new_data['Customer_ID']"
      ],
      "metadata": {
        "id": "L_Di6vUK7Vr-"
      },
      "execution_count": 46,
      "outputs": []
    },
    {
      "cell_type": "code",
      "source": [
        "# Drop columns\n",
        "new_data = new_data.drop(['Customer_ID','Churn_Category','Churn_Reason','Customer_Status'], axis=1)"
      ],
      "metadata": {
        "id": "fl6uE9Me7qGR"
      },
      "execution_count": 48,
      "outputs": []
    },
    {
      "cell_type": "code",
      "source": [
        "# Encode Categorical variable using saved Label Encoder\n",
        "for column in new_data.select_dtypes(include=['object']).columns:\n",
        "  new_data[column] = label_encoders[column].transform(new_data[column])"
      ],
      "metadata": {
        "id": "5dnPy39_8JqJ"
      },
      "execution_count": 49,
      "outputs": []
    },
    {
      "cell_type": "code",
      "source": [
        "# Make prediction\n",
        "new_data_predictions = rf_model.predict(new_data)"
      ],
      "metadata": {
        "id": "Fxbi76zt87GK"
      },
      "execution_count": 50,
      "outputs": []
    },
    {
      "cell_type": "code",
      "source": [
        "# Add predictions to the original DataFrame\n",
        "original_data['Customer_Status_Predicted'] = new_data_predictions"
      ],
      "metadata": {
        "id": "k0vrbiTr9H3S"
      },
      "execution_count": 51,
      "outputs": []
    },
    {
      "cell_type": "code",
      "source": [
        "# Filter the DataFrame to include only records filtered as 'Churned'\n",
        "original_data = original_data[original_data['Customer_Status_Predicted'] == 1]"
      ],
      "metadata": {
        "id": "yYZTpts59mMI"
      },
      "execution_count": 52,
      "outputs": []
    },
    {
      "cell_type": "code",
      "source": [
        "#save the results\n",
        "original_data.to_csv('/content/Predictions.csv', index=False)"
      ],
      "metadata": {
        "id": "chI8J2wc-EHo"
      },
      "execution_count": 53,
      "outputs": []
    }
  ]
}